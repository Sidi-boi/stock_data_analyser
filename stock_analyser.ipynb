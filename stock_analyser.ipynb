{
 "cells": [
  {
   "cell_type": "markdown",
   "metadata": {},
   "source": [
    "# Stock Data Analysis"
   ]
  },
  {
   "cell_type": "markdown",
   "metadata": {},
   "source": [
    "### Import Required Packages"
   ]
  },
  {
   "cell_type": "code",
   "execution_count": null,
   "metadata": {},
   "outputs": [],
   "source": [
    "import os\n",
    "import requests\n",
    "from dotenv import load_dotenv\n",
    "from bs4 import BeautifulSoup\n",
    "from openai import OpenAI\n",
    "from IPython.display import Markdown, display\n"
   ]
  },
  {
   "cell_type": "markdown",
   "metadata": {},
   "source": [
    "### API KEY VALIDITY CHECK"
   ]
  },
  {
   "cell_type": "code",
   "execution_count": 25,
   "metadata": {},
   "outputs": [
    {
     "name": "stdout",
     "output_type": "stream",
     "text": [
      "API key found and looks good so far!\n"
     ]
    }
   ],
   "source": [
    "load_dotenv(override=True)\n",
    "api_key = os.getenv('OPENAI_API_KEY')\n",
    "\n",
    "if not api_key:\n",
    "    print(\"No API key was found - please head over to the troubleshooting notebook in this folder to identify & fix!\")\n",
    "elif not api_key.startswith(\"sk-proj-\"):\n",
    "    print(\"An API key was found, but it doesn't start sk-proj-; please check you're using the right key - see troubleshooting notebook\")\n",
    "elif api_key.strip() != api_key:\n",
    "    print(\"An API key was found, but it looks like it might have space or tab characters at the start or end - please remove them - see troubleshooting notebook\")\n",
    "else:\n",
    "    print(\"API key found and looks good so far!\")"
   ]
  },
  {
   "cell_type": "code",
   "execution_count": 26,
   "metadata": {},
   "outputs": [],
   "source": [
    "from urllib.parse import urlencode\n",
    "import datetime\n",
    "\n",
    "headers = {\n",
    " \"User-Agent\": \"Mozilla/5.0 (Windows NT 10.0; Win64; x64) AppleWebKit/537.36 (KHTML, like Gecko) Chrome/117.0.0.0 Safari/537.36\"\n",
    "}"
   ]
  },
  {
   "cell_type": "markdown",
   "metadata": {},
   "source": [
    "### BUILDING URL AND RESPONSE STRUCTIRE"
   ]
  },
  {
   "cell_type": "code",
   "execution_count": 75,
   "metadata": {},
   "outputs": [],
   "source": [
    "class YahooFinanceWebsite:\n",
    "    def __init__(self, stock_symbol):\n",
    "        self.stock_symbol = stock_symbol.upper()\n",
    "\n",
    "    def __build_url(self, params):\n",
    "        base_url = f\"https://finance.yahoo.com/quote/{self.stock_symbol}/history/\"\n",
    "        query_string = urlencode(params)\n",
    "        return f\"{base_url}?{query_string}\"\n",
    "    \n",
    "    def get_stock_data(self):\n",
    "        datetime_now = datetime.datetime.now()\n",
    "        datetime_three_year_ago = datetime.datetime.now() - datetime.timedelta(days=1095)\n",
    "        params = {\"frequency\": \"1wk\", \"period1\": datetime_three_year_ago.timestamp(), \"period2\": datetime_now.timestamp()}\n",
    "        url = self.__build_url(params)\n",
    "        response = requests.get(url, headers=headers)\n",
    "\n",
    "        soup = BeautifulSoup(response.content, 'html.parser')\n",
    "\n",
    "        title = soup.title.string if soup.title else \"No title found\"\n",
    "\n",
    "        for irrelevant in soup.body(['script', 'style', 'image', 'input']):\n",
    "            irrelevant.decompose()\n",
    "\n",
    "        table_data = soup.find('table')\n",
    "\n",
    "        return title, table_data\n",
    "\n"
   ]
  },
  {
   "cell_type": "markdown",
   "metadata": {},
   "source": [
    "### BUILDNIG SYSTEM AND USER PROMPTS"
   ]
  },
  {
   "cell_type": "code",
   "execution_count": 76,
   "metadata": {},
   "outputs": [],
   "source": [
    "def build_stock_analysis_prompt(stock_symbol, table_data):\n",
    "    sys_prompt = r\"\"\"You are an assistant that analyzes the contents of HTML formated table that contains data on a specific stock.\n",
    "    The HTML table contains the date, open price, close price, low and highs aggregated for every week over three years timeframe.\n",
    "    Ignoring text, tags or html attributes that might be navigation related. \n",
    "    Respond in Markdown format\"\"\"\n",
    "    \n",
    "    user_prompt = f\"The data provided below in the HTML table format for {stock_symbol} from the Yahoo Finances.\\\n",
    "    Make the explaination easy enough for a newbie to understand. \\\n",
    "    Analyze and Summarize the trends on this stock:\\n{table_data}\\n\\n\\\n",
    "    Also, calculate the total returns in percentage one could have expected over this period.\"\n",
    "\n",
    "    return [\n",
    "        {'role':'system', \"content\":sys_prompt},\n",
    "        {\"role\":\"user\", \"content\":user_prompt}\n",
    "    ]"
   ]
  },
  {
   "cell_type": "markdown",
   "metadata": {},
   "source": [
    "### AGGREGATING EVERYTHING WITH OPENAI"
   ]
  },
  {
   "cell_type": "code",
   "execution_count": 83,
   "metadata": {},
   "outputs": [],
   "source": [
    "def analyse_stock_trends(stock_symbol):\n",
    "    stock_data_page = YahooFinanceWebsite(stock_symbol)\n",
    "    title, table_data = stock_data_page.get_stock_data()\n",
    "    openai = OpenAI()\n",
    "    response = openai.chat.completions.create(\n",
    "        model= \"gpt-4o-mini\",\n",
    "        messages= build_stock_analysis_prompt(stock_symbol, table_data)\n",
    "    )\n",
    "\n",
    "    return response.choices[0].message.content"
   ]
  },
  {
   "cell_type": "code",
   "execution_count": 84,
   "metadata": {},
   "outputs": [],
   "source": [
    "def display_analysis(stock_symbol):\n",
    "    display(Markdown(analyse_stock_trends(stock_symbol)))"
   ]
  },
  {
   "cell_type": "markdown",
   "metadata": {},
   "source": [
    "### FINAL RESPONSE"
   ]
  },
  {
   "cell_type": "code",
   "execution_count": 85,
   "metadata": {},
   "outputs": [
    {
     "data": {
      "text/markdown": [
       "# GOOG Stock Analysis (Jan 2022 - Feb 2025)\n",
       "\n",
       "### Summary of the Data\n",
       "The provided data contains stock information for Google (GOOG) over the period from January 2022 to February 2025. The key metrics include the opening price, highest price, lowest price, closing price, adjusted closing price, and trading volume for each week.\n",
       "\n",
       "### Price Trends\n",
       "1. **General Price Movement**\n",
       "   - The stock started at around **$89.31** in late December 2022 and saw substantial growth over the period.\n",
       "   - By February 21, 2025, the closing price was **$181.58**, showing strong appreciation.\n",
       "\n",
       "2. **Major Peaks and Troughs**\n",
       "   - **Highest Price:** The highest recorded price reached **$208.70** on February 3, 2025.\n",
       "   - **Lowest Price:** The lowest price in the given timeframe was **$86.70** observed on October 31, 2022.\n",
       "\n",
       "3. **Volatility**\n",
       "   - There were significant fluctuations between the highest and lowest stock prices each week, notably in early 2023, indicating high volatility.\n",
       "   - The stock experienced declines followed by rebounds, particularly throughout 2023 before stabilizing at a higher price point by 2024.\n",
       "\n",
       "4. **Dividend Payments**\n",
       "   - **Dividends:** GOOG made several small dividend payments averaging **$0.20**, which can contribute to overall returns alongside capital gains.\n",
       "\n",
       "### Volume Insight\n",
       "- The trading volume varied significantly, with some weeks showing high trading activity (over **200 million** shares) during noteworthy price moves, while other weeks had significantly lower volume indicating less activity.\n",
       "\n",
       "### Calculation of Total Returns\n",
       "To calculate the total return over the period, we will use the following formula:\n",
       "\n",
       "\\[\n",
       "\\text{Total Return (\\%)} = \\left( \\frac{\\text{Final Price} - \\text{Initial Price}}{\\text{Initial Price}} \\right) \\times 100\n",
       "\\]\n",
       "\n",
       "- **Initial Price (Jan 1, 2022):** **$89.31** \n",
       "- **Final Price (Feb 21, 2025):** **$181.58**\n",
       "\n",
       "### Calculation:\n",
       "\\[\n",
       "\\text{Total Return (\\%)} = \\left( \\frac{181.58 - 89.31}{89.31} \\right) \\times 100 = \\left( \\frac{92.27}{89.31} \\right) \\times 100 \\approx 103.3\\%\n",
       "\\]\n",
       "\n",
       "### Conclusion\n",
       "- **Total Expected Return:** Approximately **103.3%** over the reviewed period.\n",
       "- The stock has more than doubled in value, suggesting strong performance for investors during this timeframe, amidst notable price fluctuations and volatility.\n",
       "- New investors looking at GOOG should consider market conditions, historical performance, and potential risks associated with stock price volatility."
      ],
      "text/plain": [
       "<IPython.core.display.Markdown object>"
      ]
     },
     "metadata": {},
     "output_type": "display_data"
    }
   ],
   "source": [
    "display_analysis('GOOG')"
   ]
  },
  {
   "cell_type": "code",
   "execution_count": null,
   "metadata": {},
   "outputs": [],
   "source": []
  },
  {
   "cell_type": "code",
   "execution_count": null,
   "metadata": {},
   "outputs": [],
   "source": []
  }
 ],
 "metadata": {
  "kernelspec": {
   "display_name": ".venv",
   "language": "python",
   "name": "python3"
  },
  "language_info": {
   "codemirror_mode": {
    "name": "ipython",
    "version": 3
   },
   "file_extension": ".py",
   "mimetype": "text/x-python",
   "name": "python",
   "nbconvert_exporter": "python",
   "pygments_lexer": "ipython3",
   "version": "3.10.4"
  }
 },
 "nbformat": 4,
 "nbformat_minor": 2
}
