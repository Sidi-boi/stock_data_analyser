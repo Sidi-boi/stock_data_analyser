{
 "cells": [
  {
   "cell_type": "markdown",
   "metadata": {},
   "source": [
    "# Stock Data Analysis"
   ]
  },
  {
   "cell_type": "markdown",
   "metadata": {},
   "source": [
    "### Import Required Packages"
   ]
  },
  {
   "cell_type": "code",
   "execution_count": 8,
   "metadata": {},
   "outputs": [],
   "source": [
    "import os\n",
    "import requests\n",
    "from dotenv import load_dotenv\n",
    "from bs4 import BeautifulSoup\n",
    "from openai import OpenAI\n",
    "from IPython.display import Markdown, display\n"
   ]
  },
  {
   "cell_type": "markdown",
   "metadata": {},
   "source": [
    "### API KEY VALIDITY CHECK"
   ]
  },
  {
   "cell_type": "code",
   "execution_count": 9,
   "metadata": {},
   "outputs": [
    {
     "name": "stdout",
     "output_type": "stream",
     "text": [
      "API key found and looks good so far!\n"
     ]
    }
   ],
   "source": [
    "load_dotenv(override=True)\n",
    "api_key = os.getenv('OPENAI_API_KEY')\n",
    "\n",
    "if not api_key:\n",
    "    print(\"No API key was found - please head over to the troubleshooting notebook in this folder to identify & fix!\")\n",
    "elif not api_key.startswith(\"sk-proj-\"):\n",
    "    print(\"An API key was found, but it doesn't start sk-proj-; please check you're using the right key - see troubleshooting notebook\")\n",
    "elif api_key.strip() != api_key:\n",
    "    print(\"An API key was found, but it looks like it might have space or tab characters at the start or end - please remove them - see troubleshooting notebook\")\n",
    "else:\n",
    "    print(\"API key found and looks good so far!\")"
   ]
  },
  {
   "cell_type": "code",
   "execution_count": 10,
   "metadata": {},
   "outputs": [],
   "source": [
    "from urllib.parse import urlencode\n",
    "import datetime\n",
    "\n",
    "headers = {\n",
    " \"User-Agent\": \"Mozilla/5.0 (Windows NT 10.0; Win64; x64) AppleWebKit/537.36 (KHTML, like Gecko) Chrome/117.0.0.0 Safari/537.36\"\n",
    "}"
   ]
  },
  {
   "cell_type": "markdown",
   "metadata": {},
   "source": [
    "### BUILDING URL AND RESPONSE STRUCTIRE"
   ]
  },
  {
   "cell_type": "code",
   "execution_count": 11,
   "metadata": {},
   "outputs": [],
   "source": [
    "class YahooFinanceWebsite:\n",
    "    def __init__(self, stock_symbol):\n",
    "        self.stock_symbol = stock_symbol.upper()\n",
    "\n",
    "    def __build_url(self, params):\n",
    "        base_url = f\"https://finance.yahoo.com/quote/{self.stock_symbol}/history/\"\n",
    "        query_string = urlencode(params)\n",
    "        return f\"{base_url}?{query_string}\"\n",
    "    \n",
    "    def get_stock_data(self):\n",
    "        datetime_now = datetime.datetime.now()\n",
    "        datetime_three_year_ago = datetime.datetime.now() - datetime.timedelta(days=1095)\n",
    "        params = {\"frequency\": \"1wk\", \"period1\": datetime_three_year_ago.timestamp(), \"period2\": datetime_now.timestamp()}\n",
    "        url = self.__build_url(params)\n",
    "        response = requests.get(url, headers=headers)\n",
    "\n",
    "        soup = BeautifulSoup(response.content, 'html.parser')\n",
    "\n",
    "        title = soup.title.string if soup.title else \"No title found\"\n",
    "\n",
    "        for irrelevant in soup.body(['script', 'style', 'image', 'input']):\n",
    "            irrelevant.decompose()\n",
    "\n",
    "        table_data = soup.find('table')\n",
    "\n",
    "        return title, table_data\n",
    "\n"
   ]
  },
  {
   "cell_type": "markdown",
   "metadata": {},
   "source": [
    "### BUILDNIG SYSTEM AND USER PROMPTS"
   ]
  },
  {
   "cell_type": "code",
   "execution_count": 12,
   "metadata": {},
   "outputs": [],
   "source": [
    "def build_stock_analysis_prompt(stock_symbol, table_data):\n",
    "    sys_prompt = r\"\"\"You are an assistant that analyzes the contents of HTML formated table that contains data on a specific stock.\n",
    "    The HTML table contains the date, open price, close price, low and highs aggregated for every week over three years timeframe.\n",
    "    Ignoring text, tags or html attributes that might be navigation related. \n",
    "    Respond in Markdown format\"\"\"\n",
    "    \n",
    "    user_prompt = f\"The data provided below in the HTML table format for {stock_symbol} from the Yahoo Finances.\\\n",
    "    Make the explaination easy enough for a newbie to understand. \\\n",
    "    Analyze and Summarize the trends on this stock:\\n{table_data}\\n\\n\\\n",
    "    Also, calculate the total returns in percentage one could have expected over this period.\"\n",
    "\n",
    "    return [\n",
    "        {'role':'system', \"content\":sys_prompt},\n",
    "        {\"role\":\"user\", \"content\":user_prompt}\n",
    "    ]"
   ]
  },
  {
   "cell_type": "markdown",
   "metadata": {},
   "source": [
    "### AGGREGATING EVERYTHING WITH OPENAI"
   ]
  },
  {
   "cell_type": "code",
   "execution_count": 13,
   "metadata": {},
   "outputs": [],
   "source": [
    "def analyse_stock_trends(stock_symbol):\n",
    "    stock_data_page = YahooFinanceWebsite(stock_symbol)\n",
    "    title, table_data = stock_data_page.get_stock_data()\n",
    "    openai = OpenAI()\n",
    "    response = openai.chat.completions.create(\n",
    "        model= \"gpt-4o-mini\",\n",
    "        messages= build_stock_analysis_prompt(stock_symbol, table_data)\n",
    "    )\n",
    "\n",
    "    return response.choices[0].message.content"
   ]
  },
  {
   "cell_type": "code",
   "execution_count": 14,
   "metadata": {},
   "outputs": [],
   "source": [
    "def display_analysis(stock_symbol):\n",
    "    display(Markdown(analyse_stock_trends(stock_symbol)))"
   ]
  },
  {
   "cell_type": "markdown",
   "metadata": {},
   "source": [
    "### FINAL RESPONSE"
   ]
  },
  {
   "cell_type": "code",
   "execution_count": 15,
   "metadata": {},
   "outputs": [
    {
     "data": {
      "text/markdown": [
       "## Analysis of GOOG Stock Data\n",
       "\n",
       "Below is an analysis of the Google (GOOG) stock based on the provided data over recent weeks. \n",
       "\n",
       "### Key Metrics from the Data\n",
       "\n",
       "1. **Price Movement** (Date: 2022 - 2025):\n",
       "   - **Starting Price**: The lowest recorded price shown is around \\$89.31 in December 2022.\n",
       "   - **Ending Price**: The most recent price on February 21, 2025 is \\$181.58.\n",
       "\n",
       "2. **Price Overview**:\n",
       "   - **Open Prices**: \n",
       "     - The opening prices show fluctuations, starting from \\$89.83 in January 2023, rising to \\$202.21 by February 2025, showing significant growth.\n",
       "   - **Closing Prices**: \n",
       "     - Closing prices reflect a general uptrend from approximately \\$88.73 in December 2022 to around \\$181.58.\n",
       " \n",
       "3. **Highs and Lows**: \n",
       "   - **High Price**: The highest recorded price in the data is \\$208.70 in February 2025.\n",
       "   - **Low Price**: The lowest price recorded is \\$85.57, which occurred in January 2023.\n",
       "\n",
       "4. **Trading Volume**: \n",
       "   - There is high trading volume in the data, peaking at volumes exceeding 200 million shares traded in some weeks. This suggests strong market interest and liquidity.\n",
       "\n",
       "### Trends Observed\n",
       "\n",
       "1. **Upward Trend**: \n",
       "   - Over the analyzed timeframe, the stock has shown a clear upward trend. Starting below \\$100 in January 2023, GOOG has significantly appreciated in value.\n",
       "   - In general, there appears to be a strong recovery from a low point following a larger market correction, resulting in a substantial rebound.\n",
       "\n",
       "2. **Volatility**:\n",
       "   - Throughout the data, there are multiple instances where the stock shows volatility (e.g., significant drops followed by recoveries). This indicates sensitivity to market conditions.\n",
       "   - High volatility in trading volumes during these periods suggests changes in trader sentiment and possibly external factors affecting GOOG.\n",
       "\n",
       "### Total Returns Calculation\n",
       "\n",
       "To calculate total returns percentage over this period, we can use the formula:\n",
       "\n",
       "\\[\n",
       "\\text{Total Return} (\\%) = \\left(\\frac{\\text{Ending Value} - \\text{Beginning Value}}{\\text{Beginning Value}}\\right) \\times 100\n",
       "\\]\n",
       "\n",
       "Here:\n",
       "- **Ending Value** = \\$181.58 (on February 21, 2025)\n",
       "- **Beginning Value** = \\$89.31 (on December 26, 2022)\n",
       "\n",
       "Now, calculate the return:\n",
       "\n",
       "\\[\n",
       "\\text{Total Return} (\\%) = \\left(\\frac{181.58 - 89.31}{89.31}\\right) \\times 100\n",
       "\\]\n",
       "\n",
       "\\[\n",
       "\\text{Total Return} (\\%) = \\left(\\frac{92.27}{89.31}\\right) \\times 100 \\approx 103.4\\%\n",
       "\\]\n",
       "\n",
       "### Summary\n",
       "\n",
       "- **Overall Performance**: GOOG has shown robust growth of approximately **103.4%** from late 2022 to early 2025.\n",
       "- **Investment Consideration**: Investors could view this substantial return as a sign of strong performance, though they should remain mindful of the stock's volatility. It is also important to consider external factors that might impact the tech industry and Google's business model in the future.\n",
       "\n",
       "This summary provides a backdrop of Google's recent performance, helping investors make informed decisions."
      ],
      "text/plain": [
       "<IPython.core.display.Markdown object>"
      ]
     },
     "metadata": {},
     "output_type": "display_data"
    }
   ],
   "source": [
    "display_analysis('GOOG')"
   ]
  },
  {
   "cell_type": "code",
   "execution_count": null,
   "metadata": {},
   "outputs": [],
   "source": []
  },
  {
   "cell_type": "markdown",
   "metadata": {},
   "source": [
    "## OLLAMA INSTEAD OF OPENAI"
   ]
  },
  {
   "cell_type": "code",
   "execution_count": 16,
   "metadata": {},
   "outputs": [],
   "source": [
    "OLLAMA_API = \"http://localhost:11434/api/chat\"\n",
    "HEADERS = {\"Content-Type\": \"application/json\"}\n",
    "MODEL = \"llama3.2\""
   ]
  },
  {
   "cell_type": "code",
   "execution_count": 17,
   "metadata": {},
   "outputs": [],
   "source": [
    "messages = [\n",
    "    {\"role\":\"user\", \"content\":\"Describe some of the Technical applicaitons of TLS\"}\n",
    "]"
   ]
  },
  {
   "cell_type": "code",
   "execution_count": 18,
   "metadata": {},
   "outputs": [
    {
     "name": "stderr",
     "output_type": "stream",
     "text": [
      "\u001b[?25lpulling manifest ⠋ \u001b[?25h\u001b[?25l\u001b[2K\u001b[1Gpulling manifest ⠙ \u001b[?25h\u001b[?25l\u001b[2K\u001b[1Gpulling manifest ⠹ \u001b[?25h\u001b[?25l\u001b[2K\u001b[1Gpulling manifest ⠸ \u001b[?25h\u001b[?25l\u001b[2K\u001b[1Gpulling manifest ⠼ \u001b[?25h\u001b[?25l\u001b[2K\u001b[1Gpulling manifest ⠴ \u001b[?25h\u001b[?25l\u001b[2K\u001b[1Gpulling manifest ⠦ \u001b[?25h\u001b[?25l\u001b[2K\u001b[1Gpulling manifest ⠧ \u001b[?25h\u001b[?25l\u001b[2K\u001b[1Gpulling manifest ⠇ \u001b[?25h\u001b[?25l\u001b[2K\u001b[1Gpulling manifest ⠏ \u001b[?25h\u001b[?25l\u001b[2K\u001b[1Gpulling manifest ⠋ \u001b[?25h\u001b[?25l\u001b[2K\u001b[1Gpulling manifest ⠙ \u001b[?25h\u001b[?25l\u001b[2K\u001b[1Gpulling manifest \n",
      "pulling dde5aa3fc5ff... 100% ▕████████████████▏ 2.0 GB                         \n",
      "pulling 966de95ca8a6... 100% ▕████████████████▏ 1.4 KB                         \n",
      "pulling fcc5a6bec9da... 100% ▕████████████████▏ 7.7 KB                         \n",
      "pulling a70ff7e570d9... 100% ▕████████████████▏ 6.0 KB                         \n",
      "pulling 56bb8bd477a5... 100% ▕████████████████▏   96 B                         \n",
      "pulling 34bb5ab01051... 100% ▕████████████████▏  561 B                         \n",
      "verifying sha256 digest \n",
      "writing manifest \n",
      "success \u001b[?25h\n"
     ]
    }
   ],
   "source": [
    "!ollama pull llama3.2"
   ]
  },
  {
   "cell_type": "code",
   "execution_count": 19,
   "metadata": {},
   "outputs": [],
   "source": [
    "payload = {\n",
    "    \"model\" : MODEL,\n",
    "    \"messages\": messages,\n",
    "    \"stream\":False\n",
    "}"
   ]
  },
  {
   "cell_type": "code",
   "execution_count": null,
   "metadata": {},
   "outputs": [],
   "source": []
  },
  {
   "cell_type": "code",
   "execution_count": null,
   "metadata": {},
   "outputs": [],
   "source": [
    "\n",
    "def analyse_stock_trends_ollama(stock_symbol):\n",
    "    stock_data_package =YahooFinanceWebsite(stock_symbol)\n",
    "    title, table_data = stock_data_package.get_stock_data()\n",
    "    response = requests.post(OLLAMA_API, json=payload, headers=HEADERS)\n",
    "    print(response.json()['message']['content'])\n",
    "\n"
   ]
  },
  {
   "cell_type": "code",
   "execution_count": 23,
   "metadata": {},
   "outputs": [
    {
     "name": "stdout",
     "output_type": "stream",
     "text": [
      "{'error': 'model requires more system memory (3.5 GiB) than is available (2.8 GiB)'}\n"
     ]
    }
   ],
   "source": [
    "analyse_stock_trends_ollama(\"GOOG\")"
   ]
  },
  {
   "cell_type": "code",
   "execution_count": null,
   "metadata": {},
   "outputs": [],
   "source": []
  }
 ],
 "metadata": {
  "kernelspec": {
   "display_name": ".venv",
   "language": "python",
   "name": "python3"
  },
  "language_info": {
   "codemirror_mode": {
    "name": "ipython",
    "version": 3
   },
   "file_extension": ".py",
   "mimetype": "text/x-python",
   "name": "python",
   "nbconvert_exporter": "python",
   "pygments_lexer": "ipython3",
   "version": "3.10.4"
  }
 },
 "nbformat": 4,
 "nbformat_minor": 2
}
